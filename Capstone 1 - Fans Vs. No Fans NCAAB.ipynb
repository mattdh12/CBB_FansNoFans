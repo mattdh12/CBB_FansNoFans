{
 "cells": [
  {
   "cell_type": "markdown",
   "id": "85b2de64",
   "metadata": {},
   "source": [
    "# 1) Introduction"
   ]
  },
  {
   "cell_type": "markdown",
   "id": "4ccd0ad0",
   "metadata": {},
   "source": [
    "In this notebook, we will be exploring the impact fans have on the outcome of college basketball games. College basketball atmospheres are known to be rowdy, but how much does that actually help the home team?\n",
    "\n",
    "The timing of the pandemic makes this an interesting topic to explore. The entirety of the 2019-2020 college basketball regular season was completed without interruption. Fans were allowed to attend games for all of the 2019-2020 regular season. It was only the post-season when issues began.\n",
    "\n",
    "On the other hand, the entirety of the 2020-2021 regular college basketball season did not allow fans in the stands. This gives us an opportunity to look at how home teams performed with and without fans. By comparing these two seasons, we can see how much the average fanbase impacts the outcome of a home game.\n",
    "\n",
    "In college sports and in sports in general, there is what’s called “home court advantage.” On average, the home team has an actual advantage due to a number of factors. Some of these factors include the home team being familiar with their own court, the away team being tired from travel, fans supporting the home team, and fans trying to discourage the away team. Fans not being allowed into stadiums for the 2020-2021 season raises some questions: does home court advantage still exist without fans? On average, how much do fans impact college basketball games?"
   ]
  },
  {
   "cell_type": "markdown",
   "id": "eaaf0ffb",
   "metadata": {},
   "source": [
    "# 2) Hypothesis"
   ]
  },
  {
   "cell_type": "markdown",
   "id": "2ee3c3ae",
   "metadata": {},
   "source": [
    "**H₀:** There is no significant difference between home court advantage with fans and home court advantage without fans.\n",
    "\n",
    "**Hₐ:**  There is a significant difference between home court advantage with fans and home court advantage without fans."
   ]
  },
  {
   "cell_type": "markdown",
   "id": "b01645b0",
   "metadata": {},
   "source": [
    "# 3) Data"
   ]
  },
  {
   "cell_type": "markdown",
   "id": "67ad5129",
   "metadata": {},
   "source": [
    "The dataset will be all game results from the 2019-2020 and 2020-2021 regular college basketball seasons.\n",
    "\n",
    "The data used is from the free version of the sportsdata.io API. The API documentation can be found here: https://sportsdata.io/developers/api-documentation/ncaa-basketball\n",
    "\n",
    "The specific query that will be looked at is the “Games By Date” query. The endpoint for the query is here: https://api.sportsdata.io/v3/cbb/scores/json/GamesByDate/{date}\n",
    "\n",
    "The query returns lots of game information, but we will be mostly looking at just the scores of the games.\n",
    "\n",
    "**It is important to note that the free version of the sportsdata.io API only returns halftime scores and not full game scores. With this in mind, we can still see full game impacts by multiplying the final results by 2.**"
   ]
  },
  {
   "cell_type": "code",
   "execution_count": 58,
   "id": "cf5f2ee2",
   "metadata": {},
   "outputs": [
    {
     "data": {
      "text/plain": [
       "True"
      ]
     },
     "execution_count": 58,
     "metadata": {},
     "output_type": "execute_result"
    }
   ],
   "source": [
    "# Set up environment\n",
    "\n",
    "import requests\n",
    "import pandas as pd\n",
    "from time import sleep\n",
    "import math\n",
    "from scipy import stats\n",
    "import matplotlib.pyplot as plt\n",
    "from dotenv import load_dotenv\n",
    "import os\n",
    "\n",
    "load_dotenv()"
   ]
  },
  {
   "cell_type": "markdown",
   "id": "4726a08d",
   "metadata": {},
   "source": [
    "### Retrieving 2020 (With Fans) Season Data"
   ]
  },
  {
   "cell_type": "code",
   "execution_count": 59,
   "id": "dfcd2968",
   "metadata": {},
   "outputs": [],
   "source": [
    "API_KEY = os.getenv(\"SPORTSDATAIO_API_KEY\")\n",
    "query = {'key': API_KEY}\n",
    "\n",
    "with_fans_season = 2020\n",
    "with_fans_url = f'https://api.sportsdata.io/v3/cbb/scores/json/Games/{with_fans_season}'\n",
    "\n",
    "with_fans_response = requests.get(with_fans_url, params=query)"
   ]
  },
  {
   "cell_type": "code",
   "execution_count": 60,
   "id": "92eab86a",
   "metadata": {},
   "outputs": [
    {
     "data": {
      "text/plain": [
       "200"
      ]
     },
     "execution_count": 60,
     "metadata": {},
     "output_type": "execute_result"
    }
   ],
   "source": [
    "with_fans_response.status_code"
   ]
  },
  {
   "cell_type": "code",
   "execution_count": 61,
   "id": "aefc4d8d",
   "metadata": {},
   "outputs": [
    {
     "data": {
      "text/plain": [
       "True"
      ]
     },
     "execution_count": 61,
     "metadata": {},
     "output_type": "execute_result"
    }
   ],
   "source": [
    "with_fans_response.ok"
   ]
  },
  {
   "cell_type": "markdown",
   "id": "0de64799",
   "metadata": {},
   "source": [
    "### Retrieving 2021 (No Fans) Season Data"
   ]
  },
  {
   "cell_type": "code",
   "execution_count": 62,
   "id": "e33a563c",
   "metadata": {},
   "outputs": [],
   "source": [
    "sleep(5)\n",
    "no_fans_season = 2021\n",
    "no_fans_url = f'https://api.sportsdata.io/v3/cbb/scores/json/Games/{no_fans_season}'\n",
    "no_fans_response = requests.get(no_fans_url, params=query)"
   ]
  },
  {
   "cell_type": "code",
   "execution_count": 63,
   "id": "35aa7e84",
   "metadata": {},
   "outputs": [
    {
     "data": {
      "text/plain": [
       "True"
      ]
     },
     "execution_count": 63,
     "metadata": {},
     "output_type": "execute_result"
    }
   ],
   "source": [
    "no_fans_response.ok"
   ]
  },
  {
   "cell_type": "markdown",
   "id": "2afbad61",
   "metadata": {},
   "source": [
    "### Retrieving Team Info"
   ]
  },
  {
   "cell_type": "markdown",
   "id": "076aa1fe",
   "metadata": {},
   "source": [
    "#### We will be retreiving the team info so we can see the conferences of the home and away teams later."
   ]
  },
  {
   "cell_type": "code",
   "execution_count": 64,
   "id": "658723e3",
   "metadata": {},
   "outputs": [],
   "source": [
    "sleep(5)\n",
    "team_info_url = 'https://api.sportsdata.io/v3/cbb/scores/json/teams'\n",
    "team_info_response = requests.get(team_info_url, params=query)"
   ]
  },
  {
   "cell_type": "code",
   "execution_count": 65,
   "id": "f1353712",
   "metadata": {},
   "outputs": [
    {
     "data": {
      "text/plain": [
       "True"
      ]
     },
     "execution_count": 65,
     "metadata": {},
     "output_type": "execute_result"
    }
   ],
   "source": [
    "team_info_response.ok"
   ]
  },
  {
   "cell_type": "markdown",
   "id": "ec039d57",
   "metadata": {},
   "source": [
    "### Converting JSON Data to Tabular Form"
   ]
  },
  {
   "cell_type": "code",
   "execution_count": 66,
   "id": "0718ea10",
   "metadata": {},
   "outputs": [
    {
     "name": "stdout",
     "output_type": "stream",
     "text": [
      "[{'season': 2020, 'status': 'Final', 'day': '2019-11-05T00:00:00', 'date_time': '2019-11-05T12:00:00', 'away_team': 'CARK', 'home_team': 'BAYL', 'away_team_score': 29, 'home_team_score': 49, 'neutral_venue': False}, {'season': 2020, 'status': 'Final', 'day': '2019-11-05T00:00:00', 'date_time': '2019-11-05T12:00:00', 'away_team': 'CCT', 'home_team': 'LAMAR', 'away_team_score': 19, 'home_team_score': 40, 'neutral_venue': False}, {'season': 2020, 'status': 'Final', 'day': '2019-11-05T00:00:00', 'date_time': '2019-11-05T13:00:00', 'away_team': 'HOUBAP', 'home_team': 'TULSA', 'away_team_score': 34, 'home_team_score': 38, 'neutral_venue': False}, {'season': 2020, 'status': 'Final', 'day': '2019-11-05T00:00:00', 'date_time': '2019-11-05T17:00:00', 'away_team': 'COLU', 'home_team': 'HOWRD', 'away_team_score': 33, 'home_team_score': 32, 'neutral_venue': False}, {'season': 2020, 'status': 'Final', 'day': '2019-11-05T00:00:00', 'date_time': '2019-11-05T18:00:00', 'away_team': 'PRNCE', 'home_team': 'DUQ', 'away_team_score': 31, 'home_team_score': 44, 'neutral_venue': False}]\n"
     ]
    }
   ],
   "source": [
    "# 2019-2020 Season With Fans\n",
    "\n",
    "if(with_fans_response.ok):\n",
    "    with_fans_data = with_fans_response.json()\n",
    "    with_fans_game_logs = [{\n",
    "      'season': game['Season'],\n",
    "      'status': game['Status'],\n",
    "      'day': game['Day'],\n",
    "      'date_time': game['DateTime'],\n",
    "      'away_team': game['AwayTeam'],\n",
    "      'home_team': game['HomeTeam'],\n",
    "      'away_team_score': game['AwayTeamScore'],\n",
    "      'home_team_score': game['HomeTeamScore'],\n",
    "      'neutral_venue': game['NeutralVenue']\n",
    "  } for game in with_fans_data]\n",
    "print(with_fans_game_logs[:5])"
   ]
  },
  {
   "cell_type": "code",
   "execution_count": 67,
   "id": "32d46c27",
   "metadata": {},
   "outputs": [],
   "source": [
    "with_fans_df = pd.DataFrame(with_fans_game_logs)"
   ]
  },
  {
   "cell_type": "code",
   "execution_count": 68,
   "id": "21f2f754",
   "metadata": {},
   "outputs": [
    {
     "data": {
      "text/html": [
       "<div>\n",
       "<style scoped>\n",
       "    .dataframe tbody tr th:only-of-type {\n",
       "        vertical-align: middle;\n",
       "    }\n",
       "\n",
       "    .dataframe tbody tr th {\n",
       "        vertical-align: top;\n",
       "    }\n",
       "\n",
       "    .dataframe thead th {\n",
       "        text-align: right;\n",
       "    }\n",
       "</style>\n",
       "<table border=\"1\" class=\"dataframe\">\n",
       "  <thead>\n",
       "    <tr style=\"text-align: right;\">\n",
       "      <th></th>\n",
       "      <th>season</th>\n",
       "      <th>status</th>\n",
       "      <th>day</th>\n",
       "      <th>date_time</th>\n",
       "      <th>away_team</th>\n",
       "      <th>home_team</th>\n",
       "      <th>away_team_score</th>\n",
       "      <th>home_team_score</th>\n",
       "      <th>neutral_venue</th>\n",
       "    </tr>\n",
       "  </thead>\n",
       "  <tbody>\n",
       "    <tr>\n",
       "      <th>0</th>\n",
       "      <td>2020</td>\n",
       "      <td>Final</td>\n",
       "      <td>2019-11-05T00:00:00</td>\n",
       "      <td>2019-11-05T12:00:00</td>\n",
       "      <td>CARK</td>\n",
       "      <td>BAYL</td>\n",
       "      <td>29.0</td>\n",
       "      <td>49.0</td>\n",
       "      <td>False</td>\n",
       "    </tr>\n",
       "    <tr>\n",
       "      <th>1</th>\n",
       "      <td>2020</td>\n",
       "      <td>Final</td>\n",
       "      <td>2019-11-05T00:00:00</td>\n",
       "      <td>2019-11-05T12:00:00</td>\n",
       "      <td>CCT</td>\n",
       "      <td>LAMAR</td>\n",
       "      <td>19.0</td>\n",
       "      <td>40.0</td>\n",
       "      <td>False</td>\n",
       "    </tr>\n",
       "    <tr>\n",
       "      <th>2</th>\n",
       "      <td>2020</td>\n",
       "      <td>Final</td>\n",
       "      <td>2019-11-05T00:00:00</td>\n",
       "      <td>2019-11-05T13:00:00</td>\n",
       "      <td>HOUBAP</td>\n",
       "      <td>TULSA</td>\n",
       "      <td>34.0</td>\n",
       "      <td>38.0</td>\n",
       "      <td>False</td>\n",
       "    </tr>\n",
       "    <tr>\n",
       "      <th>3</th>\n",
       "      <td>2020</td>\n",
       "      <td>Final</td>\n",
       "      <td>2019-11-05T00:00:00</td>\n",
       "      <td>2019-11-05T17:00:00</td>\n",
       "      <td>COLU</td>\n",
       "      <td>HOWRD</td>\n",
       "      <td>33.0</td>\n",
       "      <td>32.0</td>\n",
       "      <td>False</td>\n",
       "    </tr>\n",
       "    <tr>\n",
       "      <th>4</th>\n",
       "      <td>2020</td>\n",
       "      <td>Final</td>\n",
       "      <td>2019-11-05T00:00:00</td>\n",
       "      <td>2019-11-05T18:00:00</td>\n",
       "      <td>PRNCE</td>\n",
       "      <td>DUQ</td>\n",
       "      <td>31.0</td>\n",
       "      <td>44.0</td>\n",
       "      <td>False</td>\n",
       "    </tr>\n",
       "    <tr>\n",
       "      <th>5</th>\n",
       "      <td>2020</td>\n",
       "      <td>Final</td>\n",
       "      <td>2019-11-05T00:00:00</td>\n",
       "      <td>2019-11-05T18:30:00</td>\n",
       "      <td>LOU</td>\n",
       "      <td>MIA</td>\n",
       "      <td>41.0</td>\n",
       "      <td>35.0</td>\n",
       "      <td>False</td>\n",
       "    </tr>\n",
       "    <tr>\n",
       "      <th>6</th>\n",
       "      <td>2020</td>\n",
       "      <td>Final</td>\n",
       "      <td>2019-11-05T00:00:00</td>\n",
       "      <td>2019-11-05T18:30:00</td>\n",
       "      <td>CENT</td>\n",
       "      <td>NWST</td>\n",
       "      <td>27.0</td>\n",
       "      <td>39.0</td>\n",
       "      <td>False</td>\n",
       "    </tr>\n",
       "    <tr>\n",
       "      <th>7</th>\n",
       "      <td>2020</td>\n",
       "      <td>Final</td>\n",
       "      <td>2019-11-05T00:00:00</td>\n",
       "      <td>2019-11-05T18:30:00</td>\n",
       "      <td>WAG</td>\n",
       "      <td>SETON</td>\n",
       "      <td>33.0</td>\n",
       "      <td>49.0</td>\n",
       "      <td>False</td>\n",
       "    </tr>\n",
       "    <tr>\n",
       "      <th>8</th>\n",
       "      <td>2020</td>\n",
       "      <td>Final</td>\n",
       "      <td>2019-11-05T00:00:00</td>\n",
       "      <td>2019-11-05T19:00:00</td>\n",
       "      <td>DEF</td>\n",
       "      <td>BALLST</td>\n",
       "      <td>20.0</td>\n",
       "      <td>41.0</td>\n",
       "      <td>False</td>\n",
       "    </tr>\n",
       "    <tr>\n",
       "      <th>9</th>\n",
       "      <td>2020</td>\n",
       "      <td>Final</td>\n",
       "      <td>2019-11-05T00:00:00</td>\n",
       "      <td>2019-11-05T19:00:00</td>\n",
       "      <td>NEAST</td>\n",
       "      <td>BOSTU</td>\n",
       "      <td>34.0</td>\n",
       "      <td>31.0</td>\n",
       "      <td>False</td>\n",
       "    </tr>\n",
       "  </tbody>\n",
       "</table>\n",
       "</div>"
      ],
      "text/plain": [
       "   season status                  day            date_time away_team  \\\n",
       "0    2020  Final  2019-11-05T00:00:00  2019-11-05T12:00:00      CARK   \n",
       "1    2020  Final  2019-11-05T00:00:00  2019-11-05T12:00:00       CCT   \n",
       "2    2020  Final  2019-11-05T00:00:00  2019-11-05T13:00:00    HOUBAP   \n",
       "3    2020  Final  2019-11-05T00:00:00  2019-11-05T17:00:00      COLU   \n",
       "4    2020  Final  2019-11-05T00:00:00  2019-11-05T18:00:00     PRNCE   \n",
       "5    2020  Final  2019-11-05T00:00:00  2019-11-05T18:30:00       LOU   \n",
       "6    2020  Final  2019-11-05T00:00:00  2019-11-05T18:30:00      CENT   \n",
       "7    2020  Final  2019-11-05T00:00:00  2019-11-05T18:30:00       WAG   \n",
       "8    2020  Final  2019-11-05T00:00:00  2019-11-05T19:00:00       DEF   \n",
       "9    2020  Final  2019-11-05T00:00:00  2019-11-05T19:00:00     NEAST   \n",
       "\n",
       "  home_team  away_team_score  home_team_score neutral_venue  \n",
       "0      BAYL             29.0             49.0         False  \n",
       "1     LAMAR             19.0             40.0         False  \n",
       "2     TULSA             34.0             38.0         False  \n",
       "3     HOWRD             33.0             32.0         False  \n",
       "4       DUQ             31.0             44.0         False  \n",
       "5       MIA             41.0             35.0         False  \n",
       "6      NWST             27.0             39.0         False  \n",
       "7     SETON             33.0             49.0         False  \n",
       "8    BALLST             20.0             41.0         False  \n",
       "9     BOSTU             34.0             31.0         False  "
      ]
     },
     "execution_count": 68,
     "metadata": {},
     "output_type": "execute_result"
    }
   ],
   "source": [
    "with_fans_df.head(10)"
   ]
  },
  {
   "cell_type": "code",
   "execution_count": 69,
   "id": "6a802780",
   "metadata": {},
   "outputs": [
    {
     "name": "stdout",
     "output_type": "stream",
     "text": [
      "[{'season': 2021, 'status': 'Canceled', 'day': None, 'date_time': None, 'away_team': 'WEBST', 'home_team': 'PORTST', 'away_team_score': None, 'home_team_score': None, 'neutral_venue': False}, {'season': 2021, 'status': 'Canceled', 'day': '2020-11-01T00:00:00', 'date_time': None, 'away_team': 'NEOM', 'home_team': 'CREIGH', 'away_team_score': None, 'home_team_score': None, 'neutral_venue': False}, {'season': 2021, 'status': 'Canceled', 'day': '2020-11-01T00:00:00', 'date_time': None, 'away_team': 'GB', 'home_team': 'WISC', 'away_team_score': None, 'home_team_score': None, 'neutral_venue': False}, {'season': 2021, 'status': 'Canceled', 'day': '2020-11-05T00:00:00', 'date_time': None, 'away_team': 'MSTM', 'home_team': 'VCU', 'away_team_score': None, 'home_team_score': None, 'neutral_venue': False}, {'season': 2021, 'status': 'Canceled', 'day': '2020-11-08T00:00:00', 'date_time': '2020-11-08T22:00:00', 'away_team': 'UCIRV', 'home_team': 'USC', 'away_team_score': None, 'home_team_score': None, 'neutral_venue': False}]\n"
     ]
    }
   ],
   "source": [
    "# 2020-2021 Season Without Fans\n",
    "\n",
    "if(no_fans_response.ok):\n",
    "  no_fans_data = no_fans_response.json()\n",
    "  no_fans_game_logs = [{\n",
    "      'season': game['Season'],\n",
    "      'status': game['Status'],\n",
    "      'day': game['Day'],\n",
    "      'date_time': game['DateTime'],\n",
    "      'away_team': game['AwayTeam'],\n",
    "      'home_team': game['HomeTeam'],\n",
    "      'away_team_score': game['AwayTeamScore'],\n",
    "      'home_team_score': game['HomeTeamScore'],\n",
    "      'neutral_venue': game['NeutralVenue']\n",
    "  } for game in no_fans_data]\n",
    "print(no_fans_game_logs[:5])"
   ]
  },
  {
   "cell_type": "code",
   "execution_count": 70,
   "id": "87b2c83c",
   "metadata": {},
   "outputs": [],
   "source": [
    "no_fans_df = pd.DataFrame(no_fans_game_logs)"
   ]
  },
  {
   "cell_type": "code",
   "execution_count": 71,
   "id": "4a7c840d",
   "metadata": {},
   "outputs": [
    {
     "data": {
      "text/html": [
       "<div>\n",
       "<style scoped>\n",
       "    .dataframe tbody tr th:only-of-type {\n",
       "        vertical-align: middle;\n",
       "    }\n",
       "\n",
       "    .dataframe tbody tr th {\n",
       "        vertical-align: top;\n",
       "    }\n",
       "\n",
       "    .dataframe thead th {\n",
       "        text-align: right;\n",
       "    }\n",
       "</style>\n",
       "<table border=\"1\" class=\"dataframe\">\n",
       "  <thead>\n",
       "    <tr style=\"text-align: right;\">\n",
       "      <th></th>\n",
       "      <th>season</th>\n",
       "      <th>status</th>\n",
       "      <th>day</th>\n",
       "      <th>date_time</th>\n",
       "      <th>away_team</th>\n",
       "      <th>home_team</th>\n",
       "      <th>away_team_score</th>\n",
       "      <th>home_team_score</th>\n",
       "      <th>neutral_venue</th>\n",
       "    </tr>\n",
       "  </thead>\n",
       "  <tbody>\n",
       "    <tr>\n",
       "      <th>0</th>\n",
       "      <td>2021</td>\n",
       "      <td>Canceled</td>\n",
       "      <td>None</td>\n",
       "      <td>None</td>\n",
       "      <td>WEBST</td>\n",
       "      <td>PORTST</td>\n",
       "      <td>NaN</td>\n",
       "      <td>NaN</td>\n",
       "      <td>False</td>\n",
       "    </tr>\n",
       "    <tr>\n",
       "      <th>1</th>\n",
       "      <td>2021</td>\n",
       "      <td>Canceled</td>\n",
       "      <td>2020-11-01T00:00:00</td>\n",
       "      <td>None</td>\n",
       "      <td>NEOM</td>\n",
       "      <td>CREIGH</td>\n",
       "      <td>NaN</td>\n",
       "      <td>NaN</td>\n",
       "      <td>False</td>\n",
       "    </tr>\n",
       "    <tr>\n",
       "      <th>2</th>\n",
       "      <td>2021</td>\n",
       "      <td>Canceled</td>\n",
       "      <td>2020-11-01T00:00:00</td>\n",
       "      <td>None</td>\n",
       "      <td>GB</td>\n",
       "      <td>WISC</td>\n",
       "      <td>NaN</td>\n",
       "      <td>NaN</td>\n",
       "      <td>False</td>\n",
       "    </tr>\n",
       "    <tr>\n",
       "      <th>3</th>\n",
       "      <td>2021</td>\n",
       "      <td>Canceled</td>\n",
       "      <td>2020-11-05T00:00:00</td>\n",
       "      <td>None</td>\n",
       "      <td>MSTM</td>\n",
       "      <td>VCU</td>\n",
       "      <td>NaN</td>\n",
       "      <td>NaN</td>\n",
       "      <td>False</td>\n",
       "    </tr>\n",
       "    <tr>\n",
       "      <th>4</th>\n",
       "      <td>2021</td>\n",
       "      <td>Canceled</td>\n",
       "      <td>2020-11-08T00:00:00</td>\n",
       "      <td>2020-11-08T22:00:00</td>\n",
       "      <td>UCIRV</td>\n",
       "      <td>USC</td>\n",
       "      <td>NaN</td>\n",
       "      <td>NaN</td>\n",
       "      <td>False</td>\n",
       "    </tr>\n",
       "    <tr>\n",
       "      <th>5</th>\n",
       "      <td>2021</td>\n",
       "      <td>Canceled</td>\n",
       "      <td>2020-11-25T00:00:00</td>\n",
       "      <td>2020-11-25T00:00:00</td>\n",
       "      <td>PVAM</td>\n",
       "      <td>NW</td>\n",
       "      <td>0.0</td>\n",
       "      <td>0.0</td>\n",
       "      <td>False</td>\n",
       "    </tr>\n",
       "    <tr>\n",
       "      <th>6</th>\n",
       "      <td>2021</td>\n",
       "      <td>Canceled</td>\n",
       "      <td>2020-11-25T00:00:00</td>\n",
       "      <td>2020-11-25T00:00:00</td>\n",
       "      <td>CSUFL</td>\n",
       "      <td>SD</td>\n",
       "      <td>0.0</td>\n",
       "      <td>0.0</td>\n",
       "      <td>True</td>\n",
       "    </tr>\n",
       "    <tr>\n",
       "      <th>7</th>\n",
       "      <td>2021</td>\n",
       "      <td>Canceled</td>\n",
       "      <td>2020-11-25T00:00:00</td>\n",
       "      <td>2020-11-25T14:00:00</td>\n",
       "      <td>AKRON</td>\n",
       "      <td>MTNST</td>\n",
       "      <td>0.0</td>\n",
       "      <td>0.0</td>\n",
       "      <td>True</td>\n",
       "    </tr>\n",
       "    <tr>\n",
       "      <th>8</th>\n",
       "      <td>2021</td>\n",
       "      <td>Canceled</td>\n",
       "      <td>2020-11-25T00:00:00</td>\n",
       "      <td>2020-11-25T16:00:00</td>\n",
       "      <td>MASLOW</td>\n",
       "      <td>TOWS</td>\n",
       "      <td>NaN</td>\n",
       "      <td>NaN</td>\n",
       "      <td>True</td>\n",
       "    </tr>\n",
       "    <tr>\n",
       "      <th>9</th>\n",
       "      <td>2021</td>\n",
       "      <td>Postponed</td>\n",
       "      <td>2020-11-25T00:00:00</td>\n",
       "      <td>2020-11-25T16:30:00</td>\n",
       "      <td>FL</td>\n",
       "      <td>MASLOW</td>\n",
       "      <td>NaN</td>\n",
       "      <td>NaN</td>\n",
       "      <td>True</td>\n",
       "    </tr>\n",
       "  </tbody>\n",
       "</table>\n",
       "</div>"
      ],
      "text/plain": [
       "   season     status                  day            date_time away_team  \\\n",
       "0    2021   Canceled                 None                 None     WEBST   \n",
       "1    2021   Canceled  2020-11-01T00:00:00                 None      NEOM   \n",
       "2    2021   Canceled  2020-11-01T00:00:00                 None        GB   \n",
       "3    2021   Canceled  2020-11-05T00:00:00                 None      MSTM   \n",
       "4    2021   Canceled  2020-11-08T00:00:00  2020-11-08T22:00:00     UCIRV   \n",
       "5    2021   Canceled  2020-11-25T00:00:00  2020-11-25T00:00:00      PVAM   \n",
       "6    2021   Canceled  2020-11-25T00:00:00  2020-11-25T00:00:00     CSUFL   \n",
       "7    2021   Canceled  2020-11-25T00:00:00  2020-11-25T14:00:00     AKRON   \n",
       "8    2021   Canceled  2020-11-25T00:00:00  2020-11-25T16:00:00    MASLOW   \n",
       "9    2021  Postponed  2020-11-25T00:00:00  2020-11-25T16:30:00        FL   \n",
       "\n",
       "  home_team  away_team_score  home_team_score  neutral_venue  \n",
       "0    PORTST              NaN              NaN          False  \n",
       "1    CREIGH              NaN              NaN          False  \n",
       "2      WISC              NaN              NaN          False  \n",
       "3       VCU              NaN              NaN          False  \n",
       "4       USC              NaN              NaN          False  \n",
       "5        NW              0.0              0.0          False  \n",
       "6        SD              0.0              0.0           True  \n",
       "7     MTNST              0.0              0.0           True  \n",
       "8      TOWS              NaN              NaN           True  \n",
       "9    MASLOW              NaN              NaN           True  "
      ]
     },
     "execution_count": 71,
     "metadata": {},
     "output_type": "execute_result"
    }
   ],
   "source": [
    "no_fans_df.head(10)"
   ]
  },
  {
   "cell_type": "code",
   "execution_count": 72,
   "id": "54cee12e",
   "metadata": {
    "scrolled": true
   },
   "outputs": [
    {
     "name": "stdout",
     "output_type": "stream",
     "text": [
      "[{'key': 'SMU', 'conference': 'American Athletic'}, {'key': 'TEMPL', 'conference': 'American Athletic'}, {'key': 'UCONN', 'conference': 'Big East'}, {'key': 'CIN', 'conference': 'American Athletic'}, {'key': 'TULSA', 'conference': 'American Athletic'}]\n"
     ]
    }
   ],
   "source": [
    "# Team info\n",
    "\n",
    "if(team_info_response.ok):\n",
    "    team_info = team_info_response.json()\n",
    "    all_teams = [{\n",
    "        'key': team['Key'],\n",
    "#         'school': team['School'],\n",
    "#         'name': team['Name'],\n",
    "        'conference': team['Conference']\n",
    "  } for team in team_info]\n",
    "print(all_teams[:5])"
   ]
  },
  {
   "cell_type": "code",
   "execution_count": 73,
   "id": "5d11c56e",
   "metadata": {},
   "outputs": [],
   "source": [
    "all_teams_df = pd.DataFrame(all_teams)"
   ]
  },
  {
   "cell_type": "code",
   "execution_count": 74,
   "id": "9bb16c0f",
   "metadata": {},
   "outputs": [
    {
     "data": {
      "text/html": [
       "<div>\n",
       "<style scoped>\n",
       "    .dataframe tbody tr th:only-of-type {\n",
       "        vertical-align: middle;\n",
       "    }\n",
       "\n",
       "    .dataframe tbody tr th {\n",
       "        vertical-align: top;\n",
       "    }\n",
       "\n",
       "    .dataframe thead th {\n",
       "        text-align: right;\n",
       "    }\n",
       "</style>\n",
       "<table border=\"1\" class=\"dataframe\">\n",
       "  <thead>\n",
       "    <tr style=\"text-align: right;\">\n",
       "      <th></th>\n",
       "      <th>key</th>\n",
       "      <th>conference</th>\n",
       "    </tr>\n",
       "  </thead>\n",
       "  <tbody>\n",
       "    <tr>\n",
       "      <th>0</th>\n",
       "      <td>SMU</td>\n",
       "      <td>American Athletic</td>\n",
       "    </tr>\n",
       "    <tr>\n",
       "      <th>1</th>\n",
       "      <td>TEMPL</td>\n",
       "      <td>American Athletic</td>\n",
       "    </tr>\n",
       "    <tr>\n",
       "      <th>2</th>\n",
       "      <td>UCONN</td>\n",
       "      <td>Big East</td>\n",
       "    </tr>\n",
       "    <tr>\n",
       "      <th>3</th>\n",
       "      <td>CIN</td>\n",
       "      <td>American Athletic</td>\n",
       "    </tr>\n",
       "    <tr>\n",
       "      <th>4</th>\n",
       "      <td>TULSA</td>\n",
       "      <td>American Athletic</td>\n",
       "    </tr>\n",
       "  </tbody>\n",
       "</table>\n",
       "</div>"
      ],
      "text/plain": [
       "     key         conference\n",
       "0    SMU  American Athletic\n",
       "1  TEMPL  American Athletic\n",
       "2  UCONN           Big East\n",
       "3    CIN  American Athletic\n",
       "4  TULSA  American Athletic"
      ]
     },
     "execution_count": 74,
     "metadata": {},
     "output_type": "execute_result"
    }
   ],
   "source": [
    "all_teams_df.head()"
   ]
  },
  {
   "cell_type": "markdown",
   "id": "81efa2e3",
   "metadata": {},
   "source": [
    "## 4) Methods"
   ]
  },
  {
   "cell_type": "markdown",
   "id": "5763d159",
   "metadata": {},
   "source": [
    "As of right now, we have 2019-2020 data stored in the with_fans_df dataframe and the 2020-2021 data stored in the no_fans_df dataframe. The first step will be to clean the data. For each dataframe, this will involve:\n",
    "- Removing games with neutral venues. These are game locations where both teams need to travel, which we are not interested in.\n",
    "- Removing any canceled, forfeited, or postponed games\n",
    "- Removing any null values\n",
    "- Removing any non-conference games\n",
    "\n",
    "Removing non-conference games is an important step in eliminating bias. Non-conference games often include \"buy\" games. In buy games, the away team is essentially paid to travel to a superior's team home court to play. As a result, there are a lot of non-conference games where the home team wins by a very large margin. This would incorrectly influence the data to make home court advantage seem larger than it actually is. \n",
    "\n",
    "In an earlier step, we retrieved data that listed each team's conference. We will join that data with the game log dataframes, and then only include games where the home_team conference is equal to the away_team conference. This will get rid of non-conference games.\n",
    "\n",
    "We will add a new column for each game log dataframe. This column will be the point differential between the home team and the away team. \n",
    "\n",
    "We will then check the point differential for each season for normality. If the data is normal, we will then run a t-test for independent samples."
   ]
  },
  {
   "cell_type": "markdown",
   "id": "3eb3e9a9",
   "metadata": {},
   "source": [
    "### Cleaning 2019-2020 (With Fans) Data"
   ]
  },
  {
   "cell_type": "code",
   "execution_count": 75,
   "id": "42aed366",
   "metadata": {},
   "outputs": [
    {
     "data": {
      "text/html": [
       "<div>\n",
       "<style scoped>\n",
       "    .dataframe tbody tr th:only-of-type {\n",
       "        vertical-align: middle;\n",
       "    }\n",
       "\n",
       "    .dataframe tbody tr th {\n",
       "        vertical-align: top;\n",
       "    }\n",
       "\n",
       "    .dataframe thead th {\n",
       "        text-align: right;\n",
       "    }\n",
       "</style>\n",
       "<table border=\"1\" class=\"dataframe\">\n",
       "  <thead>\n",
       "    <tr style=\"text-align: right;\">\n",
       "      <th></th>\n",
       "      <th>season</th>\n",
       "      <th>status</th>\n",
       "      <th>day</th>\n",
       "      <th>date_time</th>\n",
       "      <th>away_team</th>\n",
       "      <th>home_team</th>\n",
       "      <th>away_team_score</th>\n",
       "      <th>home_team_score</th>\n",
       "      <th>neutral_venue</th>\n",
       "    </tr>\n",
       "  </thead>\n",
       "  <tbody>\n",
       "    <tr>\n",
       "      <th>0</th>\n",
       "      <td>2020</td>\n",
       "      <td>Final</td>\n",
       "      <td>2019-11-05T00:00:00</td>\n",
       "      <td>2019-11-05T12:00:00</td>\n",
       "      <td>CARK</td>\n",
       "      <td>BAYL</td>\n",
       "      <td>29.0</td>\n",
       "      <td>49.0</td>\n",
       "      <td>False</td>\n",
       "    </tr>\n",
       "    <tr>\n",
       "      <th>1</th>\n",
       "      <td>2020</td>\n",
       "      <td>Final</td>\n",
       "      <td>2019-11-05T00:00:00</td>\n",
       "      <td>2019-11-05T12:00:00</td>\n",
       "      <td>CCT</td>\n",
       "      <td>LAMAR</td>\n",
       "      <td>19.0</td>\n",
       "      <td>40.0</td>\n",
       "      <td>False</td>\n",
       "    </tr>\n",
       "    <tr>\n",
       "      <th>2</th>\n",
       "      <td>2020</td>\n",
       "      <td>Final</td>\n",
       "      <td>2019-11-05T00:00:00</td>\n",
       "      <td>2019-11-05T13:00:00</td>\n",
       "      <td>HOUBAP</td>\n",
       "      <td>TULSA</td>\n",
       "      <td>34.0</td>\n",
       "      <td>38.0</td>\n",
       "      <td>False</td>\n",
       "    </tr>\n",
       "    <tr>\n",
       "      <th>3</th>\n",
       "      <td>2020</td>\n",
       "      <td>Final</td>\n",
       "      <td>2019-11-05T00:00:00</td>\n",
       "      <td>2019-11-05T17:00:00</td>\n",
       "      <td>COLU</td>\n",
       "      <td>HOWRD</td>\n",
       "      <td>33.0</td>\n",
       "      <td>32.0</td>\n",
       "      <td>False</td>\n",
       "    </tr>\n",
       "    <tr>\n",
       "      <th>4</th>\n",
       "      <td>2020</td>\n",
       "      <td>Final</td>\n",
       "      <td>2019-11-05T00:00:00</td>\n",
       "      <td>2019-11-05T18:00:00</td>\n",
       "      <td>PRNCE</td>\n",
       "      <td>DUQ</td>\n",
       "      <td>31.0</td>\n",
       "      <td>44.0</td>\n",
       "      <td>False</td>\n",
       "    </tr>\n",
       "  </tbody>\n",
       "</table>\n",
       "</div>"
      ],
      "text/plain": [
       "   season status                  day            date_time away_team  \\\n",
       "0    2020  Final  2019-11-05T00:00:00  2019-11-05T12:00:00      CARK   \n",
       "1    2020  Final  2019-11-05T00:00:00  2019-11-05T12:00:00       CCT   \n",
       "2    2020  Final  2019-11-05T00:00:00  2019-11-05T13:00:00    HOUBAP   \n",
       "3    2020  Final  2019-11-05T00:00:00  2019-11-05T17:00:00      COLU   \n",
       "4    2020  Final  2019-11-05T00:00:00  2019-11-05T18:00:00     PRNCE   \n",
       "\n",
       "  home_team  away_team_score  home_team_score neutral_venue  \n",
       "0      BAYL             29.0             49.0         False  \n",
       "1     LAMAR             19.0             40.0         False  \n",
       "2     TULSA             34.0             38.0         False  \n",
       "3     HOWRD             33.0             32.0         False  \n",
       "4       DUQ             31.0             44.0         False  "
      ]
     },
     "execution_count": 75,
     "metadata": {},
     "output_type": "execute_result"
    }
   ],
   "source": [
    "with_fans_df.head()"
   ]
  },
  {
   "cell_type": "code",
   "execution_count": 76,
   "id": "33928664",
   "metadata": {},
   "outputs": [
    {
     "name": "stdout",
     "output_type": "stream",
     "text": [
      "<class 'pandas.core.frame.DataFrame'>\n",
      "RangeIndex: 5865 entries, 0 to 5864\n",
      "Data columns (total 9 columns):\n",
      " #   Column           Non-Null Count  Dtype  \n",
      "---  ------           --------------  -----  \n",
      " 0   season           5865 non-null   int64  \n",
      " 1   status           5865 non-null   object \n",
      " 2   day              5865 non-null   object \n",
      " 3   date_time        5807 non-null   object \n",
      " 4   away_team        5865 non-null   object \n",
      " 5   home_team        5865 non-null   object \n",
      " 6   away_team_score  5782 non-null   float64\n",
      " 7   home_team_score  5782 non-null   float64\n",
      " 8   neutral_venue    5765 non-null   object \n",
      "dtypes: float64(2), int64(1), object(6)\n",
      "memory usage: 412.5+ KB\n"
     ]
    }
   ],
   "source": [
    "with_fans_df.info()"
   ]
  },
  {
   "cell_type": "code",
   "execution_count": 77,
   "id": "4a7d577d",
   "metadata": {},
   "outputs": [
    {
     "data": {
      "text/plain": [
       "array(['Final', 'Canceled', 'Postponed'], dtype=object)"
      ]
     },
     "execution_count": 77,
     "metadata": {},
     "output_type": "execute_result"
    }
   ],
   "source": [
    "with_fans_df['status'].unique()"
   ]
  },
  {
   "cell_type": "code",
   "execution_count": 78,
   "id": "c7076065",
   "metadata": {},
   "outputs": [],
   "source": [
    "# clear out postponed and canceled games\n",
    "with_fans_final_df = with_fans_df[with_fans_df['status'] == 'Final']"
   ]
  },
  {
   "cell_type": "code",
   "execution_count": 79,
   "id": "f72d105d",
   "metadata": {},
   "outputs": [],
   "source": [
    "# clear out neutral-court games\n",
    "with_fans_no_neutral_df = with_fans_final_df[with_fans_final_df['neutral_venue'] == False]"
   ]
  },
  {
   "cell_type": "code",
   "execution_count": 80,
   "id": "f8ae7237",
   "metadata": {},
   "outputs": [
    {
     "name": "stdout",
     "output_type": "stream",
     "text": [
      "<class 'pandas.core.frame.DataFrame'>\n",
      "Int64Index: 5231 entries, 0 to 5787\n",
      "Data columns (total 9 columns):\n",
      " #   Column           Non-Null Count  Dtype  \n",
      "---  ------           --------------  -----  \n",
      " 0   season           5231 non-null   int64  \n",
      " 1   status           5231 non-null   object \n",
      " 2   day              5231 non-null   object \n",
      " 3   date_time        5231 non-null   object \n",
      " 4   away_team        5231 non-null   object \n",
      " 5   home_team        5231 non-null   object \n",
      " 6   away_team_score  5230 non-null   float64\n",
      " 7   home_team_score  5230 non-null   float64\n",
      " 8   neutral_venue    5231 non-null   object \n",
      "dtypes: float64(2), int64(1), object(6)\n",
      "memory usage: 408.7+ KB\n"
     ]
    }
   ],
   "source": [
    "with_fans_no_neutral_df.info()"
   ]
  },
  {
   "cell_type": "code",
   "execution_count": 81,
   "id": "45717eff",
   "metadata": {},
   "outputs": [],
   "source": [
    "# clear out null values\n",
    "with_fans_clean_df = with_fans_no_neutral_df[with_fans_no_neutral_df['away_team_score'].notnull()]"
   ]
  },
  {
   "cell_type": "code",
   "execution_count": 82,
   "id": "9ff3853d",
   "metadata": {
    "scrolled": true
   },
   "outputs": [
    {
     "name": "stdout",
     "output_type": "stream",
     "text": [
      "<class 'pandas.core.frame.DataFrame'>\n",
      "Int64Index: 5230 entries, 0 to 5787\n",
      "Data columns (total 9 columns):\n",
      " #   Column           Non-Null Count  Dtype  \n",
      "---  ------           --------------  -----  \n",
      " 0   season           5230 non-null   int64  \n",
      " 1   status           5230 non-null   object \n",
      " 2   day              5230 non-null   object \n",
      " 3   date_time        5230 non-null   object \n",
      " 4   away_team        5230 non-null   object \n",
      " 5   home_team        5230 non-null   object \n",
      " 6   away_team_score  5230 non-null   float64\n",
      " 7   home_team_score  5230 non-null   float64\n",
      " 8   neutral_venue    5230 non-null   object \n",
      "dtypes: float64(2), int64(1), object(6)\n",
      "memory usage: 408.6+ KB\n"
     ]
    }
   ],
   "source": [
    "with_fans_clean_df.info()"
   ]
  },
  {
   "cell_type": "code",
   "execution_count": 83,
   "id": "d2fa418d",
   "metadata": {},
   "outputs": [
    {
     "data": {
      "text/html": [
       "<div>\n",
       "<style scoped>\n",
       "    .dataframe tbody tr th:only-of-type {\n",
       "        vertical-align: middle;\n",
       "    }\n",
       "\n",
       "    .dataframe tbody tr th {\n",
       "        vertical-align: top;\n",
       "    }\n",
       "\n",
       "    .dataframe thead th {\n",
       "        text-align: right;\n",
       "    }\n",
       "</style>\n",
       "<table border=\"1\" class=\"dataframe\">\n",
       "  <thead>\n",
       "    <tr style=\"text-align: right;\">\n",
       "      <th></th>\n",
       "      <th>season</th>\n",
       "      <th>status</th>\n",
       "      <th>day</th>\n",
       "      <th>date_time</th>\n",
       "      <th>away_team</th>\n",
       "      <th>home_team</th>\n",
       "      <th>away_team_score</th>\n",
       "      <th>home_team_score</th>\n",
       "      <th>neutral_venue</th>\n",
       "    </tr>\n",
       "  </thead>\n",
       "  <tbody>\n",
       "    <tr>\n",
       "      <th>0</th>\n",
       "      <td>2020</td>\n",
       "      <td>Final</td>\n",
       "      <td>2019-11-05T00:00:00</td>\n",
       "      <td>2019-11-05T12:00:00</td>\n",
       "      <td>CARK</td>\n",
       "      <td>BAYL</td>\n",
       "      <td>29.0</td>\n",
       "      <td>49.0</td>\n",
       "      <td>False</td>\n",
       "    </tr>\n",
       "    <tr>\n",
       "      <th>1</th>\n",
       "      <td>2020</td>\n",
       "      <td>Final</td>\n",
       "      <td>2019-11-05T00:00:00</td>\n",
       "      <td>2019-11-05T12:00:00</td>\n",
       "      <td>CCT</td>\n",
       "      <td>LAMAR</td>\n",
       "      <td>19.0</td>\n",
       "      <td>40.0</td>\n",
       "      <td>False</td>\n",
       "    </tr>\n",
       "    <tr>\n",
       "      <th>2</th>\n",
       "      <td>2020</td>\n",
       "      <td>Final</td>\n",
       "      <td>2019-11-05T00:00:00</td>\n",
       "      <td>2019-11-05T13:00:00</td>\n",
       "      <td>HOUBAP</td>\n",
       "      <td>TULSA</td>\n",
       "      <td>34.0</td>\n",
       "      <td>38.0</td>\n",
       "      <td>False</td>\n",
       "    </tr>\n",
       "    <tr>\n",
       "      <th>3</th>\n",
       "      <td>2020</td>\n",
       "      <td>Final</td>\n",
       "      <td>2019-11-05T00:00:00</td>\n",
       "      <td>2019-11-05T17:00:00</td>\n",
       "      <td>COLU</td>\n",
       "      <td>HOWRD</td>\n",
       "      <td>33.0</td>\n",
       "      <td>32.0</td>\n",
       "      <td>False</td>\n",
       "    </tr>\n",
       "    <tr>\n",
       "      <th>4</th>\n",
       "      <td>2020</td>\n",
       "      <td>Final</td>\n",
       "      <td>2019-11-05T00:00:00</td>\n",
       "      <td>2019-11-05T18:00:00</td>\n",
       "      <td>PRNCE</td>\n",
       "      <td>DUQ</td>\n",
       "      <td>31.0</td>\n",
       "      <td>44.0</td>\n",
       "      <td>False</td>\n",
       "    </tr>\n",
       "  </tbody>\n",
       "</table>\n",
       "</div>"
      ],
      "text/plain": [
       "   season status                  day            date_time away_team  \\\n",
       "0    2020  Final  2019-11-05T00:00:00  2019-11-05T12:00:00      CARK   \n",
       "1    2020  Final  2019-11-05T00:00:00  2019-11-05T12:00:00       CCT   \n",
       "2    2020  Final  2019-11-05T00:00:00  2019-11-05T13:00:00    HOUBAP   \n",
       "3    2020  Final  2019-11-05T00:00:00  2019-11-05T17:00:00      COLU   \n",
       "4    2020  Final  2019-11-05T00:00:00  2019-11-05T18:00:00     PRNCE   \n",
       "\n",
       "  home_team  away_team_score  home_team_score neutral_venue  \n",
       "0      BAYL             29.0             49.0         False  \n",
       "1     LAMAR             19.0             40.0         False  \n",
       "2     TULSA             34.0             38.0         False  \n",
       "3     HOWRD             33.0             32.0         False  \n",
       "4       DUQ             31.0             44.0         False  "
      ]
     },
     "execution_count": 83,
     "metadata": {},
     "output_type": "execute_result"
    }
   ],
   "source": [
    "with_fans_clean_df.head()"
   ]
  },
  {
   "cell_type": "code",
   "execution_count": 84,
   "id": "314b9fe3",
   "metadata": {},
   "outputs": [
    {
     "data": {
      "text/html": [
       "<div>\n",
       "<style scoped>\n",
       "    .dataframe tbody tr th:only-of-type {\n",
       "        vertical-align: middle;\n",
       "    }\n",
       "\n",
       "    .dataframe tbody tr th {\n",
       "        vertical-align: top;\n",
       "    }\n",
       "\n",
       "    .dataframe thead th {\n",
       "        text-align: right;\n",
       "    }\n",
       "</style>\n",
       "<table border=\"1\" class=\"dataframe\">\n",
       "  <thead>\n",
       "    <tr style=\"text-align: right;\">\n",
       "      <th></th>\n",
       "      <th>season</th>\n",
       "      <th>status</th>\n",
       "      <th>day</th>\n",
       "      <th>date_time</th>\n",
       "      <th>away_team</th>\n",
       "      <th>home_team</th>\n",
       "      <th>away_team_score</th>\n",
       "      <th>home_team_score</th>\n",
       "      <th>neutral_venue</th>\n",
       "      <th>key_x</th>\n",
       "      <th>conference_x</th>\n",
       "      <th>key_y</th>\n",
       "      <th>conference_y</th>\n",
       "    </tr>\n",
       "  </thead>\n",
       "  <tbody>\n",
       "    <tr>\n",
       "      <th>19</th>\n",
       "      <td>2020</td>\n",
       "      <td>Final</td>\n",
       "      <td>2020-02-06T00:00:00</td>\n",
       "      <td>2020-02-06T19:00:00</td>\n",
       "      <td>TXST</td>\n",
       "      <td>COAST</td>\n",
       "      <td>47.0</td>\n",
       "      <td>30.0</td>\n",
       "      <td>False</td>\n",
       "      <td>COAST</td>\n",
       "      <td>Sun Belt</td>\n",
       "      <td>TXST</td>\n",
       "      <td>Sun Belt</td>\n",
       "    </tr>\n",
       "    <tr>\n",
       "      <th>20</th>\n",
       "      <td>2020</td>\n",
       "      <td>Final</td>\n",
       "      <td>2020-01-16T00:00:00</td>\n",
       "      <td>2020-01-16T20:00:00</td>\n",
       "      <td>TXST</td>\n",
       "      <td>LAMON</td>\n",
       "      <td>30.0</td>\n",
       "      <td>30.0</td>\n",
       "      <td>False</td>\n",
       "      <td>LAMON</td>\n",
       "      <td>Sun Belt</td>\n",
       "      <td>TXST</td>\n",
       "      <td>Sun Belt</td>\n",
       "    </tr>\n",
       "    <tr>\n",
       "      <th>21</th>\n",
       "      <td>2020</td>\n",
       "      <td>Final</td>\n",
       "      <td>2020-01-18T00:00:00</td>\n",
       "      <td>2020-01-18T20:00:00</td>\n",
       "      <td>TXST</td>\n",
       "      <td>LOULAF</td>\n",
       "      <td>32.0</td>\n",
       "      <td>28.0</td>\n",
       "      <td>False</td>\n",
       "      <td>LOULAF</td>\n",
       "      <td>Sun Belt</td>\n",
       "      <td>TXST</td>\n",
       "      <td>Sun Belt</td>\n",
       "    </tr>\n",
       "    <tr>\n",
       "      <th>23</th>\n",
       "      <td>2020</td>\n",
       "      <td>Final</td>\n",
       "      <td>2019-12-21T00:00:00</td>\n",
       "      <td>2019-12-21T13:00:00</td>\n",
       "      <td>TXST</td>\n",
       "      <td>GAST</td>\n",
       "      <td>32.0</td>\n",
       "      <td>38.0</td>\n",
       "      <td>False</td>\n",
       "      <td>GAST</td>\n",
       "      <td>Sun Belt</td>\n",
       "      <td>TXST</td>\n",
       "      <td>Sun Belt</td>\n",
       "    </tr>\n",
       "    <tr>\n",
       "      <th>24</th>\n",
       "      <td>2020</td>\n",
       "      <td>Final</td>\n",
       "      <td>2020-01-04T00:00:00</td>\n",
       "      <td>2020-01-04T15:00:00</td>\n",
       "      <td>TXST</td>\n",
       "      <td>ARKST</td>\n",
       "      <td>33.0</td>\n",
       "      <td>31.0</td>\n",
       "      <td>False</td>\n",
       "      <td>ARKST</td>\n",
       "      <td>Sun Belt</td>\n",
       "      <td>TXST</td>\n",
       "      <td>Sun Belt</td>\n",
       "    </tr>\n",
       "  </tbody>\n",
       "</table>\n",
       "</div>"
      ],
      "text/plain": [
       "    season status                  day            date_time away_team  \\\n",
       "19    2020  Final  2020-02-06T00:00:00  2020-02-06T19:00:00      TXST   \n",
       "20    2020  Final  2020-01-16T00:00:00  2020-01-16T20:00:00      TXST   \n",
       "21    2020  Final  2020-01-18T00:00:00  2020-01-18T20:00:00      TXST   \n",
       "23    2020  Final  2019-12-21T00:00:00  2019-12-21T13:00:00      TXST   \n",
       "24    2020  Final  2020-01-04T00:00:00  2020-01-04T15:00:00      TXST   \n",
       "\n",
       "   home_team  away_team_score  home_team_score neutral_venue   key_x  \\\n",
       "19     COAST             47.0             30.0         False   COAST   \n",
       "20     LAMON             30.0             30.0         False   LAMON   \n",
       "21    LOULAF             32.0             28.0         False  LOULAF   \n",
       "23      GAST             32.0             38.0         False    GAST   \n",
       "24     ARKST             33.0             31.0         False   ARKST   \n",
       "\n",
       "   conference_x key_y conference_y  \n",
       "19     Sun Belt  TXST     Sun Belt  \n",
       "20     Sun Belt  TXST     Sun Belt  \n",
       "21     Sun Belt  TXST     Sun Belt  \n",
       "23     Sun Belt  TXST     Sun Belt  \n",
       "24     Sun Belt  TXST     Sun Belt  "
      ]
     },
     "execution_count": 84,
     "metadata": {},
     "output_type": "execute_result"
    }
   ],
   "source": [
    "# cleaning the dataframe to get rid of non-conference games\n",
    "home_team_conf = pd.merge(left=with_fans_clean_df, right=all_teams_df, how='inner', left_on='home_team', right_on='key')\n",
    "away_team_conf = pd.merge(left=home_team_conf, right=all_teams_df, how='inner', left_on='away_team', right_on='key')\n",
    "away_team_conf.head()\n",
    "\n",
    "with_fans_conf_df = away_team_conf[away_team_conf['conference_x'] == away_team_conf['conference_y']]\n",
    "\n",
    "with_fans_conf_df.head()"
   ]
  },
  {
   "cell_type": "markdown",
   "id": "7b2bda24",
   "metadata": {},
   "source": [
    "### Cleaning 2020-2021 (Without Fans) Data"
   ]
  },
  {
   "cell_type": "code",
   "execution_count": 85,
   "id": "7a70633c",
   "metadata": {},
   "outputs": [
    {
     "name": "stdout",
     "output_type": "stream",
     "text": [
      "<class 'pandas.core.frame.DataFrame'>\n",
      "RangeIndex: 6248 entries, 0 to 6247\n",
      "Data columns (total 9 columns):\n",
      " #   Column           Non-Null Count  Dtype  \n",
      "---  ------           --------------  -----  \n",
      " 0   season           6248 non-null   int64  \n",
      " 1   status           6248 non-null   object \n",
      " 2   day              6247 non-null   object \n",
      " 3   date_time        5873 non-null   object \n",
      " 4   away_team        6248 non-null   object \n",
      " 5   home_team        6248 non-null   object \n",
      " 6   away_team_score  5177 non-null   float64\n",
      " 7   home_team_score  5178 non-null   float64\n",
      " 8   neutral_venue    6248 non-null   bool   \n",
      "dtypes: bool(1), float64(2), int64(1), object(5)\n",
      "memory usage: 396.7+ KB\n"
     ]
    }
   ],
   "source": [
    "no_fans_df.info()"
   ]
  },
  {
   "cell_type": "code",
   "execution_count": 86,
   "id": "1817ed59",
   "metadata": {},
   "outputs": [
    {
     "data": {
      "text/plain": [
       "array(['Canceled', 'Postponed', 'Final', 'F/OT', 'Forfeit'], dtype=object)"
      ]
     },
     "execution_count": 86,
     "metadata": {},
     "output_type": "execute_result"
    }
   ],
   "source": [
    "no_fans_df['status'].unique()"
   ]
  },
  {
   "cell_type": "code",
   "execution_count": 87,
   "id": "da178def",
   "metadata": {},
   "outputs": [],
   "source": [
    "# clear out postponed and canceled games\n",
    "no_fans_final_df = no_fans_df[no_fans_df['status'].isin(['Final', 'F/OT'])]"
   ]
  },
  {
   "cell_type": "code",
   "execution_count": 88,
   "id": "34f9a474",
   "metadata": {},
   "outputs": [
    {
     "name": "stdout",
     "output_type": "stream",
     "text": [
      "<class 'pandas.core.frame.DataFrame'>\n",
      "Int64Index: 4117 entries, 13 to 6247\n",
      "Data columns (total 9 columns):\n",
      " #   Column           Non-Null Count  Dtype  \n",
      "---  ------           --------------  -----  \n",
      " 0   season           4117 non-null   int64  \n",
      " 1   status           4117 non-null   object \n",
      " 2   day              4117 non-null   object \n",
      " 3   date_time        4117 non-null   object \n",
      " 4   away_team        4117 non-null   object \n",
      " 5   home_team        4117 non-null   object \n",
      " 6   away_team_score  4117 non-null   float64\n",
      " 7   home_team_score  4117 non-null   float64\n",
      " 8   neutral_venue    4117 non-null   bool   \n",
      "dtypes: bool(1), float64(2), int64(1), object(5)\n",
      "memory usage: 293.5+ KB\n"
     ]
    }
   ],
   "source": [
    "no_fans_final_df.info()"
   ]
  },
  {
   "cell_type": "code",
   "execution_count": 89,
   "id": "98b6fe9b",
   "metadata": {},
   "outputs": [],
   "source": [
    "# clear out neutral-court games\n",
    "no_fans_clean_df = no_fans_final_df[no_fans_final_df['neutral_venue'] == False]"
   ]
  },
  {
   "cell_type": "code",
   "execution_count": 90,
   "id": "d14cbb43",
   "metadata": {},
   "outputs": [
    {
     "name": "stdout",
     "output_type": "stream",
     "text": [
      "<class 'pandas.core.frame.DataFrame'>\n",
      "Int64Index: 3723 entries, 13 to 6227\n",
      "Data columns (total 9 columns):\n",
      " #   Column           Non-Null Count  Dtype  \n",
      "---  ------           --------------  -----  \n",
      " 0   season           3723 non-null   int64  \n",
      " 1   status           3723 non-null   object \n",
      " 2   day              3723 non-null   object \n",
      " 3   date_time        3723 non-null   object \n",
      " 4   away_team        3723 non-null   object \n",
      " 5   home_team        3723 non-null   object \n",
      " 6   away_team_score  3723 non-null   float64\n",
      " 7   home_team_score  3723 non-null   float64\n",
      " 8   neutral_venue    3723 non-null   bool   \n",
      "dtypes: bool(1), float64(2), int64(1), object(5)\n",
      "memory usage: 265.4+ KB\n"
     ]
    }
   ],
   "source": [
    "no_fans_clean_df.info()"
   ]
  },
  {
   "cell_type": "code",
   "execution_count": 91,
   "id": "b7456ebc",
   "metadata": {},
   "outputs": [
    {
     "data": {
      "text/html": [
       "<div>\n",
       "<style scoped>\n",
       "    .dataframe tbody tr th:only-of-type {\n",
       "        vertical-align: middle;\n",
       "    }\n",
       "\n",
       "    .dataframe tbody tr th {\n",
       "        vertical-align: top;\n",
       "    }\n",
       "\n",
       "    .dataframe thead th {\n",
       "        text-align: right;\n",
       "    }\n",
       "</style>\n",
       "<table border=\"1\" class=\"dataframe\">\n",
       "  <thead>\n",
       "    <tr style=\"text-align: right;\">\n",
       "      <th></th>\n",
       "      <th>season</th>\n",
       "      <th>status</th>\n",
       "      <th>day</th>\n",
       "      <th>date_time</th>\n",
       "      <th>away_team</th>\n",
       "      <th>home_team</th>\n",
       "      <th>away_team_score</th>\n",
       "      <th>home_team_score</th>\n",
       "      <th>neutral_venue</th>\n",
       "      <th>key_x</th>\n",
       "      <th>conference_x</th>\n",
       "      <th>key_y</th>\n",
       "      <th>conference_y</th>\n",
       "    </tr>\n",
       "  </thead>\n",
       "  <tbody>\n",
       "    <tr>\n",
       "      <th>18</th>\n",
       "      <td>2021</td>\n",
       "      <td>Final</td>\n",
       "      <td>2021-02-12T00:00:00</td>\n",
       "      <td>2021-02-12T21:00:00</td>\n",
       "      <td>FLINT</td>\n",
       "      <td>UTEP</td>\n",
       "      <td>21.0</td>\n",
       "      <td>27.0</td>\n",
       "      <td>False</td>\n",
       "      <td>UTEP</td>\n",
       "      <td>Conference USA</td>\n",
       "      <td>FLINT</td>\n",
       "      <td>Conference USA</td>\n",
       "    </tr>\n",
       "    <tr>\n",
       "      <th>19</th>\n",
       "      <td>2021</td>\n",
       "      <td>Final</td>\n",
       "      <td>2021-02-13T00:00:00</td>\n",
       "      <td>2021-02-13T21:00:00</td>\n",
       "      <td>FLINT</td>\n",
       "      <td>UTEP</td>\n",
       "      <td>24.0</td>\n",
       "      <td>27.0</td>\n",
       "      <td>False</td>\n",
       "      <td>UTEP</td>\n",
       "      <td>Conference USA</td>\n",
       "      <td>FLINT</td>\n",
       "      <td>Conference USA</td>\n",
       "    </tr>\n",
       "    <tr>\n",
       "      <th>20</th>\n",
       "      <td>2021</td>\n",
       "      <td>Final</td>\n",
       "      <td>2021-01-29T00:00:00</td>\n",
       "      <td>2021-01-29T18:00:00</td>\n",
       "      <td>FLINT</td>\n",
       "      <td>CHARLT</td>\n",
       "      <td>20.0</td>\n",
       "      <td>22.0</td>\n",
       "      <td>False</td>\n",
       "      <td>CHARLT</td>\n",
       "      <td>Conference USA</td>\n",
       "      <td>FLINT</td>\n",
       "      <td>Conference USA</td>\n",
       "    </tr>\n",
       "    <tr>\n",
       "      <th>21</th>\n",
       "      <td>2021</td>\n",
       "      <td>Final</td>\n",
       "      <td>2021-01-30T00:00:00</td>\n",
       "      <td>2021-01-30T16:00:00</td>\n",
       "      <td>FLINT</td>\n",
       "      <td>CHARLT</td>\n",
       "      <td>23.0</td>\n",
       "      <td>24.0</td>\n",
       "      <td>False</td>\n",
       "      <td>CHARLT</td>\n",
       "      <td>Conference USA</td>\n",
       "      <td>FLINT</td>\n",
       "      <td>Conference USA</td>\n",
       "    </tr>\n",
       "    <tr>\n",
       "      <th>22</th>\n",
       "      <td>2021</td>\n",
       "      <td>Final</td>\n",
       "      <td>2021-01-08T00:00:00</td>\n",
       "      <td>2021-01-08T19:00:00</td>\n",
       "      <td>FLINT</td>\n",
       "      <td>MTNST</td>\n",
       "      <td>24.0</td>\n",
       "      <td>20.0</td>\n",
       "      <td>False</td>\n",
       "      <td>MTNST</td>\n",
       "      <td>Conference USA</td>\n",
       "      <td>FLINT</td>\n",
       "      <td>Conference USA</td>\n",
       "    </tr>\n",
       "    <tr>\n",
       "      <th>23</th>\n",
       "      <td>2021</td>\n",
       "      <td>Final</td>\n",
       "      <td>2021-01-09T00:00:00</td>\n",
       "      <td>2021-01-09T17:00:00</td>\n",
       "      <td>FLINT</td>\n",
       "      <td>MTNST</td>\n",
       "      <td>20.0</td>\n",
       "      <td>24.0</td>\n",
       "      <td>False</td>\n",
       "      <td>MTNST</td>\n",
       "      <td>Conference USA</td>\n",
       "      <td>FLINT</td>\n",
       "      <td>Conference USA</td>\n",
       "    </tr>\n",
       "    <tr>\n",
       "      <th>24</th>\n",
       "      <td>2021</td>\n",
       "      <td>Final</td>\n",
       "      <td>2021-01-16T00:00:00</td>\n",
       "      <td>2021-01-16T16:00:00</td>\n",
       "      <td>FLINT</td>\n",
       "      <td>FLATL</td>\n",
       "      <td>22.0</td>\n",
       "      <td>38.0</td>\n",
       "      <td>False</td>\n",
       "      <td>FLATL</td>\n",
       "      <td>Conference USA</td>\n",
       "      <td>FLINT</td>\n",
       "      <td>Conference USA</td>\n",
       "    </tr>\n",
       "    <tr>\n",
       "      <th>25</th>\n",
       "      <td>2021</td>\n",
       "      <td>Final</td>\n",
       "      <td>2021-02-28T00:00:00</td>\n",
       "      <td>2021-02-28T15:00:00</td>\n",
       "      <td>FLINT</td>\n",
       "      <td>WKENT</td>\n",
       "      <td>21.0</td>\n",
       "      <td>32.0</td>\n",
       "      <td>False</td>\n",
       "      <td>WKENT</td>\n",
       "      <td>Conference USA</td>\n",
       "      <td>FLINT</td>\n",
       "      <td>Conference USA</td>\n",
       "    </tr>\n",
       "    <tr>\n",
       "      <th>26</th>\n",
       "      <td>2021</td>\n",
       "      <td>Final</td>\n",
       "      <td>2021-03-01T00:00:00</td>\n",
       "      <td>2021-03-01T13:00:00</td>\n",
       "      <td>FLINT</td>\n",
       "      <td>WKENT</td>\n",
       "      <td>21.0</td>\n",
       "      <td>25.0</td>\n",
       "      <td>False</td>\n",
       "      <td>WKENT</td>\n",
       "      <td>Conference USA</td>\n",
       "      <td>FLINT</td>\n",
       "      <td>Conference USA</td>\n",
       "    </tr>\n",
       "    <tr>\n",
       "      <th>31</th>\n",
       "      <td>2021</td>\n",
       "      <td>Final</td>\n",
       "      <td>2021-02-11T00:00:00</td>\n",
       "      <td>2021-02-11T18:00:00</td>\n",
       "      <td>GAS</td>\n",
       "      <td>GAST</td>\n",
       "      <td>27.0</td>\n",
       "      <td>28.0</td>\n",
       "      <td>False</td>\n",
       "      <td>GAST</td>\n",
       "      <td>Sun Belt</td>\n",
       "      <td>GAS</td>\n",
       "      <td>Sun Belt</td>\n",
       "    </tr>\n",
       "  </tbody>\n",
       "</table>\n",
       "</div>"
      ],
      "text/plain": [
       "    season status                  day            date_time away_team  \\\n",
       "18    2021  Final  2021-02-12T00:00:00  2021-02-12T21:00:00     FLINT   \n",
       "19    2021  Final  2021-02-13T00:00:00  2021-02-13T21:00:00     FLINT   \n",
       "20    2021  Final  2021-01-29T00:00:00  2021-01-29T18:00:00     FLINT   \n",
       "21    2021  Final  2021-01-30T00:00:00  2021-01-30T16:00:00     FLINT   \n",
       "22    2021  Final  2021-01-08T00:00:00  2021-01-08T19:00:00     FLINT   \n",
       "23    2021  Final  2021-01-09T00:00:00  2021-01-09T17:00:00     FLINT   \n",
       "24    2021  Final  2021-01-16T00:00:00  2021-01-16T16:00:00     FLINT   \n",
       "25    2021  Final  2021-02-28T00:00:00  2021-02-28T15:00:00     FLINT   \n",
       "26    2021  Final  2021-03-01T00:00:00  2021-03-01T13:00:00     FLINT   \n",
       "31    2021  Final  2021-02-11T00:00:00  2021-02-11T18:00:00       GAS   \n",
       "\n",
       "   home_team  away_team_score  home_team_score  neutral_venue   key_x  \\\n",
       "18      UTEP             21.0             27.0          False    UTEP   \n",
       "19      UTEP             24.0             27.0          False    UTEP   \n",
       "20    CHARLT             20.0             22.0          False  CHARLT   \n",
       "21    CHARLT             23.0             24.0          False  CHARLT   \n",
       "22     MTNST             24.0             20.0          False   MTNST   \n",
       "23     MTNST             20.0             24.0          False   MTNST   \n",
       "24     FLATL             22.0             38.0          False   FLATL   \n",
       "25     WKENT             21.0             32.0          False   WKENT   \n",
       "26     WKENT             21.0             25.0          False   WKENT   \n",
       "31      GAST             27.0             28.0          False    GAST   \n",
       "\n",
       "      conference_x  key_y    conference_y  \n",
       "18  Conference USA  FLINT  Conference USA  \n",
       "19  Conference USA  FLINT  Conference USA  \n",
       "20  Conference USA  FLINT  Conference USA  \n",
       "21  Conference USA  FLINT  Conference USA  \n",
       "22  Conference USA  FLINT  Conference USA  \n",
       "23  Conference USA  FLINT  Conference USA  \n",
       "24  Conference USA  FLINT  Conference USA  \n",
       "25  Conference USA  FLINT  Conference USA  \n",
       "26  Conference USA  FLINT  Conference USA  \n",
       "31        Sun Belt    GAS        Sun Belt  "
      ]
     },
     "execution_count": 91,
     "metadata": {},
     "output_type": "execute_result"
    }
   ],
   "source": [
    "# cleaning the dataframe to get rid of non-conference games\n",
    "nf_home_team_conf = pd.merge(left=no_fans_clean_df, right=all_teams_df, how='inner', left_on='home_team', right_on='key')\n",
    "nf_away_team_conf = pd.merge(left=nf_home_team_conf, right=all_teams_df, how='inner', left_on='away_team', right_on='key')\n",
    "nf_away_team_conf.head()\n",
    "\n",
    "no_fans_conf_df = nf_away_team_conf[nf_away_team_conf['conference_x'] == nf_away_team_conf['conference_y']]\n",
    "\n",
    "no_fans_conf_df.head(10)"
   ]
  },
  {
   "cell_type": "markdown",
   "id": "91c32bc5",
   "metadata": {},
   "source": [
    "### Calculating Win/Loss Differential For Both DataFrames"
   ]
  },
  {
   "cell_type": "code",
   "execution_count": 92,
   "id": "893bcc09",
   "metadata": {
    "scrolled": true
   },
   "outputs": [
    {
     "name": "stderr",
     "output_type": "stream",
     "text": [
      "C:\\Users\\mattd\\anaconda3\\lib\\site-packages\\ipykernel_launcher.py:1: SettingWithCopyWarning: \n",
      "A value is trying to be set on a copy of a slice from a DataFrame.\n",
      "Try using .loc[row_indexer,col_indexer] = value instead\n",
      "\n",
      "See the caveats in the documentation: https://pandas.pydata.org/pandas-docs/stable/user_guide/indexing.html#returning-a-view-versus-a-copy\n",
      "  \"\"\"Entry point for launching an IPython kernel.\n",
      "C:\\Users\\mattd\\anaconda3\\lib\\site-packages\\ipykernel_launcher.py:2: SettingWithCopyWarning: \n",
      "A value is trying to be set on a copy of a slice from a DataFrame.\n",
      "Try using .loc[row_indexer,col_indexer] = value instead\n",
      "\n",
      "See the caveats in the documentation: https://pandas.pydata.org/pandas-docs/stable/user_guide/indexing.html#returning-a-view-versus-a-copy\n",
      "  \n"
     ]
    }
   ],
   "source": [
    "with_fans_conf_df['pt_diff'] = with_fans_conf_df['home_team_score'] - with_fans_conf_df['away_team_score']\n",
    "no_fans_conf_df['pt_diff'] = no_fans_conf_df['home_team_score'] - no_fans_conf_df['away_team_score']"
   ]
  },
  {
   "cell_type": "code",
   "execution_count": 93,
   "id": "0c7c95a1",
   "metadata": {},
   "outputs": [
    {
     "data": {
      "text/html": [
       "<div>\n",
       "<style scoped>\n",
       "    .dataframe tbody tr th:only-of-type {\n",
       "        vertical-align: middle;\n",
       "    }\n",
       "\n",
       "    .dataframe tbody tr th {\n",
       "        vertical-align: top;\n",
       "    }\n",
       "\n",
       "    .dataframe thead th {\n",
       "        text-align: right;\n",
       "    }\n",
       "</style>\n",
       "<table border=\"1\" class=\"dataframe\">\n",
       "  <thead>\n",
       "    <tr style=\"text-align: right;\">\n",
       "      <th></th>\n",
       "      <th>season</th>\n",
       "      <th>status</th>\n",
       "      <th>day</th>\n",
       "      <th>date_time</th>\n",
       "      <th>away_team</th>\n",
       "      <th>home_team</th>\n",
       "      <th>away_team_score</th>\n",
       "      <th>home_team_score</th>\n",
       "      <th>neutral_venue</th>\n",
       "      <th>key_x</th>\n",
       "      <th>conference_x</th>\n",
       "      <th>key_y</th>\n",
       "      <th>conference_y</th>\n",
       "      <th>pt_diff</th>\n",
       "    </tr>\n",
       "  </thead>\n",
       "  <tbody>\n",
       "    <tr>\n",
       "      <th>19</th>\n",
       "      <td>2020</td>\n",
       "      <td>Final</td>\n",
       "      <td>2020-02-06T00:00:00</td>\n",
       "      <td>2020-02-06T19:00:00</td>\n",
       "      <td>TXST</td>\n",
       "      <td>COAST</td>\n",
       "      <td>47.0</td>\n",
       "      <td>30.0</td>\n",
       "      <td>False</td>\n",
       "      <td>COAST</td>\n",
       "      <td>Sun Belt</td>\n",
       "      <td>TXST</td>\n",
       "      <td>Sun Belt</td>\n",
       "      <td>-17.0</td>\n",
       "    </tr>\n",
       "    <tr>\n",
       "      <th>20</th>\n",
       "      <td>2020</td>\n",
       "      <td>Final</td>\n",
       "      <td>2020-01-16T00:00:00</td>\n",
       "      <td>2020-01-16T20:00:00</td>\n",
       "      <td>TXST</td>\n",
       "      <td>LAMON</td>\n",
       "      <td>30.0</td>\n",
       "      <td>30.0</td>\n",
       "      <td>False</td>\n",
       "      <td>LAMON</td>\n",
       "      <td>Sun Belt</td>\n",
       "      <td>TXST</td>\n",
       "      <td>Sun Belt</td>\n",
       "      <td>0.0</td>\n",
       "    </tr>\n",
       "    <tr>\n",
       "      <th>21</th>\n",
       "      <td>2020</td>\n",
       "      <td>Final</td>\n",
       "      <td>2020-01-18T00:00:00</td>\n",
       "      <td>2020-01-18T20:00:00</td>\n",
       "      <td>TXST</td>\n",
       "      <td>LOULAF</td>\n",
       "      <td>32.0</td>\n",
       "      <td>28.0</td>\n",
       "      <td>False</td>\n",
       "      <td>LOULAF</td>\n",
       "      <td>Sun Belt</td>\n",
       "      <td>TXST</td>\n",
       "      <td>Sun Belt</td>\n",
       "      <td>-4.0</td>\n",
       "    </tr>\n",
       "    <tr>\n",
       "      <th>23</th>\n",
       "      <td>2020</td>\n",
       "      <td>Final</td>\n",
       "      <td>2019-12-21T00:00:00</td>\n",
       "      <td>2019-12-21T13:00:00</td>\n",
       "      <td>TXST</td>\n",
       "      <td>GAST</td>\n",
       "      <td>32.0</td>\n",
       "      <td>38.0</td>\n",
       "      <td>False</td>\n",
       "      <td>GAST</td>\n",
       "      <td>Sun Belt</td>\n",
       "      <td>TXST</td>\n",
       "      <td>Sun Belt</td>\n",
       "      <td>6.0</td>\n",
       "    </tr>\n",
       "    <tr>\n",
       "      <th>24</th>\n",
       "      <td>2020</td>\n",
       "      <td>Final</td>\n",
       "      <td>2020-01-04T00:00:00</td>\n",
       "      <td>2020-01-04T15:00:00</td>\n",
       "      <td>TXST</td>\n",
       "      <td>ARKST</td>\n",
       "      <td>33.0</td>\n",
       "      <td>31.0</td>\n",
       "      <td>False</td>\n",
       "      <td>ARKST</td>\n",
       "      <td>Sun Belt</td>\n",
       "      <td>TXST</td>\n",
       "      <td>Sun Belt</td>\n",
       "      <td>-2.0</td>\n",
       "    </tr>\n",
       "  </tbody>\n",
       "</table>\n",
       "</div>"
      ],
      "text/plain": [
       "    season status                  day            date_time away_team  \\\n",
       "19    2020  Final  2020-02-06T00:00:00  2020-02-06T19:00:00      TXST   \n",
       "20    2020  Final  2020-01-16T00:00:00  2020-01-16T20:00:00      TXST   \n",
       "21    2020  Final  2020-01-18T00:00:00  2020-01-18T20:00:00      TXST   \n",
       "23    2020  Final  2019-12-21T00:00:00  2019-12-21T13:00:00      TXST   \n",
       "24    2020  Final  2020-01-04T00:00:00  2020-01-04T15:00:00      TXST   \n",
       "\n",
       "   home_team  away_team_score  home_team_score neutral_venue   key_x  \\\n",
       "19     COAST             47.0             30.0         False   COAST   \n",
       "20     LAMON             30.0             30.0         False   LAMON   \n",
       "21    LOULAF             32.0             28.0         False  LOULAF   \n",
       "23      GAST             32.0             38.0         False    GAST   \n",
       "24     ARKST             33.0             31.0         False   ARKST   \n",
       "\n",
       "   conference_x key_y conference_y  pt_diff  \n",
       "19     Sun Belt  TXST     Sun Belt    -17.0  \n",
       "20     Sun Belt  TXST     Sun Belt      0.0  \n",
       "21     Sun Belt  TXST     Sun Belt     -4.0  \n",
       "23     Sun Belt  TXST     Sun Belt      6.0  \n",
       "24     Sun Belt  TXST     Sun Belt     -2.0  "
      ]
     },
     "execution_count": 93,
     "metadata": {},
     "output_type": "execute_result"
    }
   ],
   "source": [
    "with_fans_conf_df.head()"
   ]
  },
  {
   "cell_type": "code",
   "execution_count": 94,
   "id": "2892d03a",
   "metadata": {},
   "outputs": [
    {
     "data": {
      "text/html": [
       "<div>\n",
       "<style scoped>\n",
       "    .dataframe tbody tr th:only-of-type {\n",
       "        vertical-align: middle;\n",
       "    }\n",
       "\n",
       "    .dataframe tbody tr th {\n",
       "        vertical-align: top;\n",
       "    }\n",
       "\n",
       "    .dataframe thead th {\n",
       "        text-align: right;\n",
       "    }\n",
       "</style>\n",
       "<table border=\"1\" class=\"dataframe\">\n",
       "  <thead>\n",
       "    <tr style=\"text-align: right;\">\n",
       "      <th></th>\n",
       "      <th>season</th>\n",
       "      <th>status</th>\n",
       "      <th>day</th>\n",
       "      <th>date_time</th>\n",
       "      <th>away_team</th>\n",
       "      <th>home_team</th>\n",
       "      <th>away_team_score</th>\n",
       "      <th>home_team_score</th>\n",
       "      <th>neutral_venue</th>\n",
       "      <th>key_x</th>\n",
       "      <th>conference_x</th>\n",
       "      <th>key_y</th>\n",
       "      <th>conference_y</th>\n",
       "      <th>pt_diff</th>\n",
       "    </tr>\n",
       "  </thead>\n",
       "  <tbody>\n",
       "    <tr>\n",
       "      <th>18</th>\n",
       "      <td>2021</td>\n",
       "      <td>Final</td>\n",
       "      <td>2021-02-12T00:00:00</td>\n",
       "      <td>2021-02-12T21:00:00</td>\n",
       "      <td>FLINT</td>\n",
       "      <td>UTEP</td>\n",
       "      <td>21.0</td>\n",
       "      <td>27.0</td>\n",
       "      <td>False</td>\n",
       "      <td>UTEP</td>\n",
       "      <td>Conference USA</td>\n",
       "      <td>FLINT</td>\n",
       "      <td>Conference USA</td>\n",
       "      <td>6.0</td>\n",
       "    </tr>\n",
       "    <tr>\n",
       "      <th>19</th>\n",
       "      <td>2021</td>\n",
       "      <td>Final</td>\n",
       "      <td>2021-02-13T00:00:00</td>\n",
       "      <td>2021-02-13T21:00:00</td>\n",
       "      <td>FLINT</td>\n",
       "      <td>UTEP</td>\n",
       "      <td>24.0</td>\n",
       "      <td>27.0</td>\n",
       "      <td>False</td>\n",
       "      <td>UTEP</td>\n",
       "      <td>Conference USA</td>\n",
       "      <td>FLINT</td>\n",
       "      <td>Conference USA</td>\n",
       "      <td>3.0</td>\n",
       "    </tr>\n",
       "    <tr>\n",
       "      <th>20</th>\n",
       "      <td>2021</td>\n",
       "      <td>Final</td>\n",
       "      <td>2021-01-29T00:00:00</td>\n",
       "      <td>2021-01-29T18:00:00</td>\n",
       "      <td>FLINT</td>\n",
       "      <td>CHARLT</td>\n",
       "      <td>20.0</td>\n",
       "      <td>22.0</td>\n",
       "      <td>False</td>\n",
       "      <td>CHARLT</td>\n",
       "      <td>Conference USA</td>\n",
       "      <td>FLINT</td>\n",
       "      <td>Conference USA</td>\n",
       "      <td>2.0</td>\n",
       "    </tr>\n",
       "    <tr>\n",
       "      <th>21</th>\n",
       "      <td>2021</td>\n",
       "      <td>Final</td>\n",
       "      <td>2021-01-30T00:00:00</td>\n",
       "      <td>2021-01-30T16:00:00</td>\n",
       "      <td>FLINT</td>\n",
       "      <td>CHARLT</td>\n",
       "      <td>23.0</td>\n",
       "      <td>24.0</td>\n",
       "      <td>False</td>\n",
       "      <td>CHARLT</td>\n",
       "      <td>Conference USA</td>\n",
       "      <td>FLINT</td>\n",
       "      <td>Conference USA</td>\n",
       "      <td>1.0</td>\n",
       "    </tr>\n",
       "    <tr>\n",
       "      <th>22</th>\n",
       "      <td>2021</td>\n",
       "      <td>Final</td>\n",
       "      <td>2021-01-08T00:00:00</td>\n",
       "      <td>2021-01-08T19:00:00</td>\n",
       "      <td>FLINT</td>\n",
       "      <td>MTNST</td>\n",
       "      <td>24.0</td>\n",
       "      <td>20.0</td>\n",
       "      <td>False</td>\n",
       "      <td>MTNST</td>\n",
       "      <td>Conference USA</td>\n",
       "      <td>FLINT</td>\n",
       "      <td>Conference USA</td>\n",
       "      <td>-4.0</td>\n",
       "    </tr>\n",
       "  </tbody>\n",
       "</table>\n",
       "</div>"
      ],
      "text/plain": [
       "    season status                  day            date_time away_team  \\\n",
       "18    2021  Final  2021-02-12T00:00:00  2021-02-12T21:00:00     FLINT   \n",
       "19    2021  Final  2021-02-13T00:00:00  2021-02-13T21:00:00     FLINT   \n",
       "20    2021  Final  2021-01-29T00:00:00  2021-01-29T18:00:00     FLINT   \n",
       "21    2021  Final  2021-01-30T00:00:00  2021-01-30T16:00:00     FLINT   \n",
       "22    2021  Final  2021-01-08T00:00:00  2021-01-08T19:00:00     FLINT   \n",
       "\n",
       "   home_team  away_team_score  home_team_score  neutral_venue   key_x  \\\n",
       "18      UTEP             21.0             27.0          False    UTEP   \n",
       "19      UTEP             24.0             27.0          False    UTEP   \n",
       "20    CHARLT             20.0             22.0          False  CHARLT   \n",
       "21    CHARLT             23.0             24.0          False  CHARLT   \n",
       "22     MTNST             24.0             20.0          False   MTNST   \n",
       "\n",
       "      conference_x  key_y    conference_y  pt_diff  \n",
       "18  Conference USA  FLINT  Conference USA      6.0  \n",
       "19  Conference USA  FLINT  Conference USA      3.0  \n",
       "20  Conference USA  FLINT  Conference USA      2.0  \n",
       "21  Conference USA  FLINT  Conference USA      1.0  \n",
       "22  Conference USA  FLINT  Conference USA     -4.0  "
      ]
     },
     "execution_count": 94,
     "metadata": {},
     "output_type": "execute_result"
    }
   ],
   "source": [
    "no_fans_conf_df.head()"
   ]
  },
  {
   "cell_type": "markdown",
   "id": "2a2af68b",
   "metadata": {},
   "source": [
    "### Analyzing Data"
   ]
  },
  {
   "cell_type": "code",
   "execution_count": 95,
   "id": "230fbc90",
   "metadata": {},
   "outputs": [
    {
     "data": {
      "image/png": "[encoded data removed]",
      "text/plain": [
       "<Figure size 432x288 with 1 Axes>"
      ]
     },
     "metadata": {
      "needs_background": "light"
     },
     "output_type": "display_data"
    }
   ],
   "source": [
    "plt.hist(with_fans_conf_df['pt_diff'], alpha = 0.5)\n",
    "plt.hist(no_fans_conf_df['pt_diff'], alpha = 0.5)\n",
    "plt.legend(['With Fans','Without Fans'])\n",
    "plt.title('Home Team - Away Team Halftime Point Differential')\n",
    "plt.show()"
   ]
  },
  {
   "cell_type": "code",
   "execution_count": 96,
   "id": "9e91ad9c",
   "metadata": {},
   "outputs": [
    {
     "name": "stdout",
     "output_type": "stream",
     "text": [
      "DescribeResult(nobs=2990, minmax=(-21.0, 24.0), mean=1.5933110367892978, variance=35.78503386441478, skewness=-0.015682450348121275, kurtosis=0.16291204677858362)\n",
      "DescribeResult(nobs=2638, minmax=(-19.0, 18.0), mean=0.866565579984837, variance=24.359132000058654, skewness=0.034866705863179755, kurtosis=0.46525972782342206)\n"
     ]
    }
   ],
   "source": [
    "print(stats.describe(with_fans_conf_df['pt_diff']))\n",
    "print(stats.describe(no_fans_conf_df['pt_diff']))"
   ]
  },
  {
   "cell_type": "code",
   "execution_count": 97,
   "id": "1983d859",
   "metadata": {},
   "outputs": [
    {
     "data": {
      "text/plain": [
       "Ttest_indResult(statistic=4.9320866440682165, pvalue=8.369464888670374e-07)"
      ]
     },
     "execution_count": 97,
     "metadata": {},
     "output_type": "execute_result"
    }
   ],
   "source": [
    "# both data sets appear normal. can conduct t-test\n",
    "stats.ttest_ind(with_fans_conf_df['pt_diff'], no_fans_conf_df['pt_diff'])"
   ]
  },
  {
   "cell_type": "code",
   "execution_count": 98,
   "id": "64132914",
   "metadata": {},
   "outputs": [
    {
     "name": "stdout",
     "output_type": "stream",
     "text": [
      "The difference in means at the 95% confidence interval (two-tail) is between -1.0121404241458403 and -0.4413504894630813.\n"
     ]
    }
   ],
   "source": [
    "def get_95_ci(array_1, array_2):\n",
    "    sample_1_n = array_1.shape[0]\n",
    "    sample_2_n = array_2.shape[0]\n",
    "    sample_1_mean = array_1.mean()\n",
    "    sample_2_mean = array_2.mean()\n",
    "    sample_1_var = array_1.var()\n",
    "    sample_2_var = array_2.var()\n",
    "    mean_difference = sample_2_mean - sample_1_mean\n",
    "    std_err_difference = math.sqrt((sample_1_var/sample_1_n)+(sample_2_var/sample_2_n))\n",
    "    margin_of_error = 1.96 * std_err_difference\n",
    "    ci_lower = mean_difference - margin_of_error\n",
    "    ci_upper = mean_difference + margin_of_error\n",
    "    return(\"The difference in means at the 95% confidence interval (two-tail) is between \"+str(ci_lower)+\" and \"+str(ci_upper)+\".\")\n",
    "\n",
    "print(get_95_ci(with_fans_conf_df['pt_diff'], no_fans_conf_df['pt_diff']))"
   ]
  },
  {
   "cell_type": "code",
   "execution_count": 99,
   "id": "37d6c6ff",
   "metadata": {},
   "outputs": [
    {
     "name": "stdout",
     "output_type": "stream",
     "text": [
      "0.866565579984837\n"
     ]
    }
   ],
   "source": [
    "print(no_fans_conf_df['pt_diff'].mean())"
   ]
  },
  {
   "cell_type": "code",
   "execution_count": 100,
   "id": "d7d25fd5",
   "metadata": {},
   "outputs": [
    {
     "name": "stdout",
     "output_type": "stream",
     "text": [
      "DescribeResult(nobs=2990, minmax=(-42.0, 48.0), mean=3.1866220735785955, variance=143.1401354576591, skewness=-0.015682450348121275, kurtosis=0.16291204677858362)\n",
      "DescribeResult(nobs=2638, minmax=(-38.0, 36.0), mean=1.733131159969674, variance=97.43652800023462, skewness=0.034866705863179755, kurtosis=0.46525972782342206)\n"
     ]
    }
   ],
   "source": [
    "# extrapolating halftime day to full game data\n",
    "print(stats.describe(with_fans_conf_df['pt_diff']*2))\n",
    "print(stats.describe(no_fans_conf_df['pt_diff']*2))"
   ]
  },
  {
   "cell_type": "markdown",
   "id": "cfa15698",
   "metadata": {},
   "source": [
    "## 5) Results"
   ]
  },
  {
   "cell_type": "markdown",
   "id": "7f2e39ab",
   "metadata": {},
   "source": [
    "The home-away team point differential distributions for both seasons are both comfortably normally distributed. Knowing this, we were able to conduct a t-test. We found that there is a significant difference between home court advantage with and without fans in the stands. We can reject the null hypothesis that there is no significant difference between home court advantage with fans and home court advantage without fans.\n",
    "\n",
    "As a reminder, the data we used was the score of games at halftime instead of the score at the end of games. The 95% confidence interval suggests that, per half of basketball played, the home - away team point differential between games with fans and without fans is between -1.01 and -0.44.\n",
    "\n",
    "When multiplying the results by two, we can see full game impacts instead of half-game impacts. Currently, on average, home games with fans give the home team a 3.19 point advantage. On average, home games without fans give the home team a 1.73 point advantage."
   ]
  },
  {
   "cell_type": "markdown",
   "id": "65e2ef1f",
   "metadata": {},
   "source": [
    "# 6) Discussion and recommendation"
   ]
  },
  {
   "cell_type": "markdown",
   "id": "6147a48f",
   "metadata": {},
   "source": [
    "Fans do make an impact! As a fan of the sport, this is happy news. It continues to make sense to be rowdy in the stands.\n",
    "\n",
    "On the coaching side, this is also good knowledge to have. During the non-conference part of the season, there are occasions where a stadium may be close to empty. Games taking place near big holidays tend to have much smaller crowds due to students going home. If a coach is looking for an opportunity to get a big win at an opposing team's court, attempting to schedule it when fans aren't around would be a good move."
   ]
  }
 ],
 "metadata": {
  "kernelspec": {
   "display_name": "Python 3",
   "language": "python",
   "name": "python3"
  },
  "language_info": {
   "codemirror_mode": {
    "name": "ipython",
    "version": 3
   },
   "file_extension": ".py",
   "mimetype": "text/x-python",
   "name": "python",
   "nbconvert_exporter": "python",
   "pygments_lexer": "ipython3",
   "version": "3.7.6"
  }
 },
 "nbformat": 4,
 "nbformat_minor": 5
}
